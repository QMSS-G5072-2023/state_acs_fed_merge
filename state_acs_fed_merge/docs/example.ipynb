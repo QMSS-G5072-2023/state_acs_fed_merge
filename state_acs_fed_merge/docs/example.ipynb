{
 "cells": [
  {
   "cell_type": "markdown",
   "metadata": {},
   "source": [
    "# Example usage\n",
    "\n",
    "To use `state_acs_fed_merge` in a project:"
   ]
  },
  {
   "cell_type": "code",
   "execution_count": 1,
   "metadata": {},
   "outputs": [
    {
     "ename": "ModuleNotFoundError",
     "evalue": "No module named 'state_acs_fed_merge'",
     "output_type": "error",
     "traceback": [
      "\u001b[0;31m---------------------------------------------------------------------------\u001b[0m",
      "\u001b[0;31mModuleNotFoundError\u001b[0m                       Traceback (most recent call last)",
      "Cell \u001b[0;32mIn[1], line 1\u001b[0m\n\u001b[0;32m----> 1\u001b[0m \u001b[38;5;28;01mimport\u001b[39;00m \u001b[38;5;21;01mstate_acs_fed_merge\u001b[39;00m\n\u001b[1;32m      2\u001b[0m \u001b[38;5;28mprint\u001b[39m(state_acs_fed_merge\u001b[38;5;241m.\u001b[39m__version__)\n",
      "\u001b[0;31mModuleNotFoundError\u001b[0m: No module named 'state_acs_fed_merge'"
     ]
    }
   ],
   "source": [
    "import state_acs_fed_merge\n",
    "print(state_acs_fed_merge.__version__)"
   ]
  },
  {
   "cell_type": "markdown",
   "metadata": {},
   "source": [
    "### Step 1: Determine the states that you are intersted in. \n",
    "\n",
    "The function requires that you input the states of interst using their statefip codes. \n",
    "You can access state fip codes here: https://transition.fcc.gov/oet/info/maps/census/fips/fips.txt\n",
    "\n",
    "In this example, I am interested in Idaho and Mississippi. Their state fip codes are 16 and 28, so I add them as a list for my first input into the function. Note that they must be input as strings. \n",
    "\n",
    "### Step 2: Determine the years , American Community Survey variables, and years that you are intersted in. \n",
    "These second input is the years of interest. For this example, I am interested in 2017, 2018, and 2019. \n",
    "Note that the years must be listed as integers. \n",
    "\n",
    "### Step 3: Determine the American Community Survey variables that you are intersted in. \n",
    "All ACS variables are available on the IPUMS-USA website. This packages uses the exact variable names from that website. \n",
    "Webiste link: https://usa.ipums.org/usa-action/variables/group\n",
    "For this example, I am intrested in:\n",
    "- average poverty rates (POVERTY)\n",
    "- average income from earnings (INCEARN)\n",
    "- average rents (RENT)\n",
    "Note that YOU MUST also include STATEFIP as a variable in the list. Variables must be listed as strings. \n",
    "\n",
    "### Applied example\n",
    "state_acs_fed_merge(state_list, years, var_list)\n",
    "\n",
    "state_acs_fed_merge([\"16\", \"28\"], [2017, 2018, 2019], [\"STATEFIP\", \"POVERTY\", \"INCEARN\", \"RENT\"]) \n"
   ]
  },
  {
   "cell_type": "code",
   "execution_count": null,
   "metadata": {},
   "outputs": [],
   "source": [
    "state_acs_fed_merge.state_acs_fed_merge([\"16\", \"28\"], [2017, 2018, 2019], [\"STATEFIP\", \"POVERTY\", \"INCEARN\", \"RENT\"]) "
   ]
  }
 ],
 "metadata": {
  "kernelspec": {
   "display_name": "Python 3 (ipykernel)",
   "language": "python",
   "name": "python3"
  },
  "language_info": {
   "codemirror_mode": {
    "name": "ipython",
    "version": 3
   },
   "file_extension": ".py",
   "mimetype": "text/x-python",
   "name": "python",
   "nbconvert_exporter": "python",
   "pygments_lexer": "ipython3",
   "version": "3.11.6"
  }
 },
 "nbformat": 4,
 "nbformat_minor": 4
}
