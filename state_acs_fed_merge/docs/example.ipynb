{
 "cells": [
  {
   "cell_type": "markdown",
   "metadata": {},
   "source": [
    "# Example usage\n",
    "\n",
    "To use `state_acs_fed_merge` in a project:"
   ]
  },
  {
   "cell_type": "code",
   "execution_count": 40,
   "metadata": {},
   "outputs": [],
   "source": [
    "import os.path\n",
    "file=os.path.dirname(dir)\n",
    "os.chdir(file)\n",
    "os.chdir('src')\n",
    "os.chdir('state_acs_fed_merge')\n",
    "os.getcwd()\n",
    "\n",
    "import state_acs_fed_merge"
   ]
  },
  {
   "cell_type": "markdown",
   "metadata": {},
   "source": [
    "### Step 1: Determine the states that you are intersted in. \n",
    "\n",
    "The function requires that you input the states of interst using their statefip codes. \n",
    "You can access state fip codes here: https://transition.fcc.gov/oet/info/maps/census/fips/fips.txt\n",
    "\n",
    "In this example, I am interested in Idaho and Mississippi. Their state fip codes are 16 and 28, so I add them as a list for my first input into the function. Note that they must be input as strings. \n",
    "\n",
    "### Step 2: Determine the years , American Community Survey variables, and years that you are intersted in. \n",
    "These second input is the years of interest. For this example, I am interested in 2017, 2018, and 2019. \n",
    "Note that the years must be listed as integers. \n",
    "\n",
    "### Step 3: Determine the American Community Survey variables that you are intersted in. \n",
    "All ACS variables are available on the IPUMS-USA website. This packages uses the exact variable names from that website. \n",
    "Webiste link: https://usa.ipums.org/usa-action/variables/group\n",
    "For this example, I am intrested in:\n",
    "- average poverty rates (POVERTY)\n",
    "- average income from earnings (INCEARN)\n",
    "- average rents (RENT)\n",
    "Note that YOU MUST also include STATEFIP as a variable in the list. Variables must be listed as strings. \n",
    "\n",
    "### Applied example\n",
    "state_acs_fed_merge(state_list, years, var_list)\n",
    "\n",
    "state_acs_fed_merge([\"16\", \"28\"], [2017, 2018, 2019], [\"STATEFIP\", \"POVERTY\", \"INCEARN\", \"RENT\"]) \n"
   ]
  },
  {
   "cell_type": "code",
   "execution_count": 43,
   "metadata": {},
   "outputs": [
    {
     "name": "stdout",
     "output_type": "stream",
     "text": [
      "collection: usa\n",
      "samples:\n",
      "- us2018a\n",
      "- us2019a\n",
      "variables:\n",
      "- STATEFIP\n",
      "- POVERTY\n",
      "- INCEARN\n",
      "- RENT\n",
      "\n",
      "{'collection': 'usa', 'samples': ['us2018a', 'us2019a'], 'variables': ['STATEFIP', 'POVERTY', 'INCEARN', 'RENT']}\n",
      "Extract submitted with id 109\n"
     ]
    },
    {
     "name": "stderr",
     "output_type": "stream",
     "text": [
      "/usr/local/lib/python3.11/site-packages/ipumspy/readers.py:49: CitationWarning: Use of data from IPUMS is subject to conditions including that users should cite the data appropriately.\n",
      "See the `ipums_conditions` attribute of this codebook for terms of use.\n",
      "See the `ipums_citation` attribute of this codebook for the appropriate citation.\n",
      "  warnings.warn(\n"
     ]
    },
    {
     "name": "stdout",
     "output_type": "stream",
     "text": [
      "1362.1099660971433 1362.1099660971433\n",
      "NY\n",
      "NY\n",
      "NY\n"
     ]
    },
    {
     "data": {
      "text/html": [
       "<div>\n",
       "<style scoped>\n",
       "    .dataframe tbody tr th:only-of-type {\n",
       "        vertical-align: middle;\n",
       "    }\n",
       "\n",
       "    .dataframe tbody tr th {\n",
       "        vertical-align: top;\n",
       "    }\n",
       "\n",
       "    .dataframe thead th {\n",
       "        text-align: right;\n",
       "    }\n",
       "</style>\n",
       "<table border=\"1\" class=\"dataframe\">\n",
       "  <thead>\n",
       "    <tr style=\"text-align: right;\">\n",
       "      <th></th>\n",
       "      <th>State Name</th>\n",
       "      <th>STATEFIP</th>\n",
       "      <th>Year</th>\n",
       "      <th>State GDP</th>\n",
       "      <th>Minimum Wage</th>\n",
       "      <th>Unemployment Rate</th>\n",
       "      <th>INCEARN</th>\n",
       "      <th>POVERTY</th>\n",
       "      <th>RENT</th>\n",
       "    </tr>\n",
       "  </thead>\n",
       "  <tbody>\n",
       "    <tr>\n",
       "      <th>0</th>\n",
       "      <td>NY</td>\n",
       "      <td>36</td>\n",
       "      <td>2018</td>\n",
       "      <td>1710665.6</td>\n",
       "      <td>10.4</td>\n",
       "      <td>4.1</td>\n",
       "      <td>31726.415887</td>\n",
       "      <td>0.133434</td>\n",
       "      <td>424.05749</td>\n",
       "    </tr>\n",
       "    <tr>\n",
       "      <th>1</th>\n",
       "      <td>NY</td>\n",
       "      <td>36</td>\n",
       "      <td>2019</td>\n",
       "      <td>1793261.3</td>\n",
       "      <td>11.1</td>\n",
       "      <td>3.9</td>\n",
       "      <td>34280.10893</td>\n",
       "      <td>0.125165</td>\n",
       "      <td>429.775155</td>\n",
       "    </tr>\n",
       "  </tbody>\n",
       "</table>\n",
       "</div>"
      ],
      "text/plain": [
       "  State Name STATEFIP  Year  State GDP  Minimum Wage  Unemployment Rate  \\\n",
       "0         NY       36  2018  1710665.6          10.4                4.1   \n",
       "1         NY       36  2019  1793261.3          11.1                3.9   \n",
       "\n",
       "        INCEARN   POVERTY        RENT  \n",
       "0  31726.415887  0.133434   424.05749  \n",
       "1   34280.10893  0.125165  429.775155  "
      ]
     },
     "execution_count": 43,
     "metadata": {},
     "output_type": "execute_result"
    }
   ],
   "source": [
    "state_acs_fed_merge.state_acs_fed_merge([\"36\"], [2018, 2019], [\"STATEFIP\", \"POVERTY\", \"INCEARN\", \"RENT\"]) "
   ]
  }
 ],
 "metadata": {
  "kernelspec": {
   "display_name": "Python 3 (ipykernel)",
   "language": "python",
   "name": "python3"
  },
  "language_info": {
   "codemirror_mode": {
    "name": "ipython",
    "version": 3
   },
   "file_extension": ".py",
   "mimetype": "text/x-python",
   "name": "python",
   "nbconvert_exporter": "python",
   "pygments_lexer": "ipython3",
   "version": "3.11.6"
  }
 },
 "nbformat": 4,
 "nbformat_minor": 4
}
